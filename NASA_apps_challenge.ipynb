{
 "cells": [
  {
   "cell_type": "code",
   "execution_count": 4,
   "metadata": {},
   "outputs": [],
   "source": [
    "#determinacion de la variable de daño:\n",
    "\n",
    "def hospitales(porcentaje_daño):\n",
    "    if porcentaje_daño < 0.15:\n",
    "        perdida = 15 * valor_hospital\n",
    "    if 15 < porcentaje_daño < 0.30:\n",
    "        perdida = 25 * valor_hospital\n",
    "    if porcentaje_daño > 0.30:\n",
    "        perdida = 100 * valor_hospital\n",
    "    return  perdida    \n",
    "\n",
    "def escuelas(porcentaje_daño):\n",
    "    if porcentaje_daño < 0.20:\n",
    "        perdida = 15 * valor_escuela\n",
    "    if 20 < porcentaje_daño < 0.50:\n",
    "        perdida = 25 * valor_escuela\n",
    "    if porcentaje_daño > 0.50:\n",
    "        perdida = 100 * valor_escuela\n",
    "    return perdida"
   ]
  },
  {
   "cell_type": "code",
   "execution_count": 5,
   "metadata": {},
   "outputs": [
    {
     "name": "stdout",
     "output_type": "stream",
     "text": [
      "Ingrese la cantidad de precipitaciones ocurridas en la zona: 1\n",
      "Ingrese la cantidad de agua (mm) que se ha precipitado: 1000\n",
      "la cantidad de precipitacion en dicha zona es:  1000 mm\n"
     ]
    }
   ],
   "source": [
    "#calculo de la precipitacion:\n",
    "n = int(input(\"Ingrese la cantidad de precipitaciones ocurridas en la zona: \"))\n",
    "ca = int(input(\"Ingrese la cantidad de agua (mm) que se ha precipitado: \"))\n",
    "l = []\n",
    "for i in range(1,n+1):\n",
    "    p = ca\n",
    "    l.append(p)\n",
    "precipitacion = sum(l)\n",
    "print(\"la cantidad de precipitacion en dicha zona es: \",precipitacion,\"mm\")"
   ]
  },
  {
   "cell_type": "code",
   "execution_count": 6,
   "metadata": {},
   "outputs": [
    {
     "name": "stdout",
     "output_type": "stream",
     "text": [
      "Ingrese el valor registrado en el termometro seco a las 07:00: 24\n",
      "Ingrese el valor registrado en el termometro seco a las 13:00: 26\n",
      "Ingrese el valor registrado en el termometro seco a las 18:00: 0\n",
      "Ingrese el valor registrado en el termometro seco a las 19:00: 26\n",
      "El valor de la temperatura promedio del ambiente es:  34.0\n"
     ]
    }
   ],
   "source": [
    "#calculo de la temperatura media mensual:\n",
    "#si nos se cuenta con alguna temperatura, colocar \"0\":\n",
    "t07 = int(input(\"Ingrese el valor registrado en el termometro seco a las 07:00: \"))\n",
    "t13 = int(input(\"Ingrese el valor registrado en el termometro seco a las 13:00: \"))\n",
    "t18 = int(input(\"Ingrese el valor registrado en el termometro seco a las 18:00: \"))\n",
    "t19 = int(input(\"Ingrese el valor registrado en el termometro seco a las 19:00: \"))\n",
    "    \n",
    "if t18 != 0:    \n",
    "    TMD = (t07+t13+t18)/3\n",
    "else:\n",
    "    TMD = (t07+t13+2*t19)/3\n",
    "print(\"El valor de la temperatura promedio del ambiente es: \",TMD)"
   ]
  },
  {
   "cell_type": "code",
   "execution_count": 7,
   "metadata": {},
   "outputs": [
    {
     "name": "stdout",
     "output_type": "stream",
     "text": [
      "El porcentaje de daño puede ser mortal:  0.8\n"
     ]
    }
   ],
   "source": [
    "#porcentaje de daño por variables meteorologicas:\n",
    "if (precipitacion > 100) and (TMD > 28):\n",
    "    porcentaje_daño = 0.80\n",
    "    print(\"El porcentaje de daño puede ser mortal: \",porcentaje_daño)\n",
    "elif (60 <= precipitacion <= 100) and (24 <=TMD <= 28):\n",
    "    porcentaje_daño = 0.70\n",
    "    print(\"El porcentaje de daño puede ser mortal: \",porcentaje_daño)\n",
    "elif (40 <= precipitacion <= 60) and (20 <=TMD <= 24):\n",
    "    porcentaje_daño = 0.60\n",
    "    print(\"EL porcentaje de daño será encima de la media: \",porcentaje_daño)\n",
    "elif (20 <=precipitacion <= 40) and (TMD <= 20):\n",
    "    porcentaje_daño = 0.20\n",
    "    print(\"El porcentaje de daño será el valor de daño promedio: \",porcentaje_daño)\n",
    "elif (10 <=precipitacion <= 20) and (TMD <= 20):\n",
    "    porcentaje_daño = 0.10\n",
    "    print(\"EL porcentaje de daño es bajo:\",porcentaje_daño)\n",
    "elif (precipitacion <= 10) and (TMD <= 20):\n",
    "    porcentaje_daño = 0.05\n",
    "    print(\"EL porcentaje de daño es casi inexistente:\",porcentaje_daño)"
   ]
  },
  {
   "cell_type": "code",
   "execution_count": 8,
   "metadata": {},
   "outputs": [
    {
     "name": "stdout",
     "output_type": "stream",
     "text": [
      "La perdida de dinero en un hospital sera: 4000000000\n",
      "La perdida de dinero en una escuela sera: 450000000\n"
     ]
    }
   ],
   "source": [
    "valor_hospital = 40 * 10**6\n",
    "valor_escuela  = 45*10**5\n",
    "\n",
    "print(\"La perdida de dinero en un hospital sera:\", hospitales(porcentaje_daño))\n",
    "print(\"La perdida de dinero en una escuela sera:\", escuelas(porcentaje_daño))\n",
    "\n"
   ]
  },
  {
   "cell_type": "code",
   "execution_count": null,
   "metadata": {},
   "outputs": [],
   "source": []
  }
 ],
 "metadata": {
  "kernelspec": {
   "display_name": "Python 3",
   "language": "python",
   "name": "python3"
  },
  "language_info": {
   "codemirror_mode": {
    "name": "ipython",
    "version": 3
   },
   "file_extension": ".py",
   "mimetype": "text/x-python",
   "name": "python",
   "nbconvert_exporter": "python",
   "pygments_lexer": "ipython3",
   "version": "3.8.5"
  }
 },
 "nbformat": 4,
 "nbformat_minor": 4
}
